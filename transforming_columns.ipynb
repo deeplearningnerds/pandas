{
 "cells": [
  {
   "cell_type": "markdown",
   "metadata": {
    "pycharm": {
     "name": "#%% md\n"
    }
   },
   "source": [
    "## Import pandas"
   ]
  },
  {
   "cell_type": "code",
   "execution_count": 49,
   "metadata": {
    "pycharm": {
     "name": "#%%\n"
    }
   },
   "outputs": [],
   "source": [
    "import pandas as pd"
   ]
  },
  {
   "cell_type": "markdown",
   "metadata": {
    "pycharm": {
     "name": "#%% md\n"
    }
   },
   "source": [
    "## Create DataFrame"
   ]
  },
  {
   "cell_type": "code",
   "execution_count": 50,
   "metadata": {
    "pycharm": {
     "name": "#%%\n"
    }
   },
   "outputs": [
    {
     "data": {
      "text/html": [
       "<div>\n",
       "<style scoped>\n",
       "    .dataframe tbody tr th:only-of-type {\n",
       "        vertical-align: middle;\n",
       "    }\n",
       "\n",
       "    .dataframe tbody tr th {\n",
       "        vertical-align: top;\n",
       "    }\n",
       "\n",
       "    .dataframe thead th {\n",
       "        text-align: right;\n",
       "    }\n",
       "</style>\n",
       "<table border=\"1\" class=\"dataframe\">\n",
       "  <thead>\n",
       "    <tr style=\"text-align: right;\">\n",
       "      <th></th>\n",
       "      <th>name</th>\n",
       "      <th>age</th>\n",
       "      <th>salary</th>\n",
       "      <th>country</th>\n",
       "      <th>city</th>\n",
       "    </tr>\n",
       "    <tr>\n",
       "      <th>dev_id</th>\n",
       "      <th></th>\n",
       "      <th></th>\n",
       "      <th></th>\n",
       "      <th></th>\n",
       "      <th></th>\n",
       "    </tr>\n",
       "  </thead>\n",
       "  <tbody>\n",
       "    <tr>\n",
       "      <th>001</th>\n",
       "      <td>John Hunter</td>\n",
       "      <td>36</td>\n",
       "      <td>60000</td>\n",
       "      <td>Germany</td>\n",
       "      <td>Berlin</td>\n",
       "    </tr>\n",
       "    <tr>\n",
       "      <th>002</th>\n",
       "      <td>Lothar Müller</td>\n",
       "      <td>48</td>\n",
       "      <td>90000</td>\n",
       "      <td>Germany</td>\n",
       "      <td>Munich</td>\n",
       "    </tr>\n",
       "    <tr>\n",
       "      <th>003</th>\n",
       "      <td>Andrew Holland</td>\n",
       "      <td>21</td>\n",
       "      <td>50000</td>\n",
       "      <td>United States</td>\n",
       "      <td>Boston</td>\n",
       "    </tr>\n",
       "    <tr>\n",
       "      <th>004</th>\n",
       "      <td>John Doe</td>\n",
       "      <td>44</td>\n",
       "      <td>120000</td>\n",
       "      <td>Scotland</td>\n",
       "      <td>Edinburgh</td>\n",
       "    </tr>\n",
       "    <tr>\n",
       "      <th>005</th>\n",
       "      <td>Elon Brown</td>\n",
       "      <td>18</td>\n",
       "      <td>90000</td>\n",
       "      <td>United States</td>\n",
       "      <td>New York</td>\n",
       "    </tr>\n",
       "  </tbody>\n",
       "</table>\n",
       "</div>"
      ],
      "text/plain": [
       "                  name  age  salary        country       city\n",
       "dev_id                                                       \n",
       "001        John Hunter   36   60000        Germany     Berlin\n",
       "002      Lothar Müller   48   90000        Germany     Munich\n",
       "003     Andrew Holland   21   50000  United States     Boston\n",
       "004           John Doe   44  120000       Scotland  Edinburgh\n",
       "005         Elon Brown   18   90000  United States   New York"
      ]
     },
     "execution_count": 50,
     "metadata": {},
     "output_type": "execute_result"
    }
   ],
   "source": [
    "mydict = {\n",
    "    \"dev_id\": [\"001\", \"002\", \"003\", \"004\", \"005\"],\n",
    "    \"name\": [\"John Hunter\", \"Lothar Müller\", \"Andrew Holland\", \"John Doe\", \"Elon Brown\"],\n",
    "    \"age\": [36, 48, 21, 44, 18],\n",
    "    \"salary\": [60000, 90000, 50000, 120000, 90000],\n",
    "    \"country\": [\"Germany\", \"Germany\", \"United States\", \"Scotland\", \"United States\"],\n",
    "    \"city\": [\"Berlin\", \"Munich\", \"Boston\", \"Edinburgh\", \"New York\"],\n",
    "}\n",
    "\n",
    "df_dev = pd.DataFrame(mydict)\n",
    "df_dev.set_index(\"dev_id\", inplace=True)\n",
    "df_dev"
   ]
  },
  {
   "cell_type": "markdown",
   "metadata": {
    "pycharm": {
     "name": "#%% md\n"
    }
   },
   "source": [
    "## Get Datatypes"
   ]
  },
  {
   "cell_type": "code",
   "execution_count": 51,
   "metadata": {
    "pycharm": {
     "name": "#%%\n"
    }
   },
   "outputs": [
    {
     "data": {
      "text/plain": [
       "name       object\n",
       "age         int64\n",
       "salary      int64\n",
       "country    object\n",
       "city       object\n",
       "dtype: object"
      ]
     },
     "execution_count": 51,
     "metadata": {},
     "output_type": "execute_result"
    }
   ],
   "source": [
    "df_dev.dtypes"
   ]
  },
  {
   "cell_type": "markdown",
   "metadata": {
    "pycharm": {
     "name": "#%% md\n"
    }
   },
   "source": [
    "## Split column \"name\""
   ]
  },
  {
   "cell_type": "code",
   "execution_count": 52,
   "metadata": {
    "pycharm": {
     "name": "#%%\n"
    }
   },
   "outputs": [
    {
     "data": {
      "text/html": [
       "<div>\n",
       "<style scoped>\n",
       "    .dataframe tbody tr th:only-of-type {\n",
       "        vertical-align: middle;\n",
       "    }\n",
       "\n",
       "    .dataframe tbody tr th {\n",
       "        vertical-align: top;\n",
       "    }\n",
       "\n",
       "    .dataframe thead th {\n",
       "        text-align: right;\n",
       "    }\n",
       "</style>\n",
       "<table border=\"1\" class=\"dataframe\">\n",
       "  <thead>\n",
       "    <tr style=\"text-align: right;\">\n",
       "      <th></th>\n",
       "      <th>first_name</th>\n",
       "      <th>last_name</th>\n",
       "      <th>age</th>\n",
       "      <th>salary</th>\n",
       "      <th>country</th>\n",
       "      <th>city</th>\n",
       "    </tr>\n",
       "    <tr>\n",
       "      <th>dev_id</th>\n",
       "      <th></th>\n",
       "      <th></th>\n",
       "      <th></th>\n",
       "      <th></th>\n",
       "      <th></th>\n",
       "      <th></th>\n",
       "    </tr>\n",
       "  </thead>\n",
       "  <tbody>\n",
       "    <tr>\n",
       "      <th>001</th>\n",
       "      <td>John</td>\n",
       "      <td>Hunter</td>\n",
       "      <td>36</td>\n",
       "      <td>60000</td>\n",
       "      <td>Germany</td>\n",
       "      <td>Berlin</td>\n",
       "    </tr>\n",
       "    <tr>\n",
       "      <th>002</th>\n",
       "      <td>Lothar</td>\n",
       "      <td>Müller</td>\n",
       "      <td>48</td>\n",
       "      <td>90000</td>\n",
       "      <td>Germany</td>\n",
       "      <td>Munich</td>\n",
       "    </tr>\n",
       "    <tr>\n",
       "      <th>003</th>\n",
       "      <td>Andrew</td>\n",
       "      <td>Holland</td>\n",
       "      <td>21</td>\n",
       "      <td>50000</td>\n",
       "      <td>United States</td>\n",
       "      <td>Boston</td>\n",
       "    </tr>\n",
       "    <tr>\n",
       "      <th>004</th>\n",
       "      <td>John</td>\n",
       "      <td>Doe</td>\n",
       "      <td>44</td>\n",
       "      <td>120000</td>\n",
       "      <td>Scotland</td>\n",
       "      <td>Edinburgh</td>\n",
       "    </tr>\n",
       "    <tr>\n",
       "      <th>005</th>\n",
       "      <td>Elon</td>\n",
       "      <td>Brown</td>\n",
       "      <td>18</td>\n",
       "      <td>90000</td>\n",
       "      <td>United States</td>\n",
       "      <td>New York</td>\n",
       "    </tr>\n",
       "  </tbody>\n",
       "</table>\n",
       "</div>"
      ],
      "text/plain": [
       "       first_name last_name  age  salary        country       city\n",
       "dev_id                                                            \n",
       "001          John    Hunter   36   60000        Germany     Berlin\n",
       "002        Lothar    Müller   48   90000        Germany     Munich\n",
       "003        Andrew   Holland   21   50000  United States     Boston\n",
       "004          John       Doe   44  120000       Scotland  Edinburgh\n",
       "005          Elon     Brown   18   90000  United States   New York"
      ]
     },
     "execution_count": 52,
     "metadata": {},
     "output_type": "execute_result"
    }
   ],
   "source": [
    "df_new = df_dev[\"name\"].str.split(\" \", n=1, expand=True)\n",
    "df_dev.insert(0, \"first_name\", df_new[0])\n",
    "df_dev.insert(1, \"last_name\", df_new[1])\n",
    "df_dev.drop(columns =[\"name\"], inplace=True)\n",
    "df_dev"
   ]
  },
  {
   "cell_type": "markdown",
   "metadata": {
    "pycharm": {
     "name": "#%% md\n"
    }
   },
   "source": [
    "## Transform column \"age\""
   ]
  },
  {
   "cell_type": "code",
   "execution_count": 53,
   "metadata": {
    "pycharm": {
     "name": "#%%\n"
    }
   },
   "outputs": [
    {
     "data": {
      "text/html": [
       "<div>\n",
       "<style scoped>\n",
       "    .dataframe tbody tr th:only-of-type {\n",
       "        vertical-align: middle;\n",
       "    }\n",
       "\n",
       "    .dataframe tbody tr th {\n",
       "        vertical-align: top;\n",
       "    }\n",
       "\n",
       "    .dataframe thead th {\n",
       "        text-align: right;\n",
       "    }\n",
       "</style>\n",
       "<table border=\"1\" class=\"dataframe\">\n",
       "  <thead>\n",
       "    <tr style=\"text-align: right;\">\n",
       "      <th></th>\n",
       "      <th>first_name</th>\n",
       "      <th>last_name</th>\n",
       "      <th>age</th>\n",
       "      <th>salary</th>\n",
       "      <th>country</th>\n",
       "      <th>city</th>\n",
       "    </tr>\n",
       "    <tr>\n",
       "      <th>dev_id</th>\n",
       "      <th></th>\n",
       "      <th></th>\n",
       "      <th></th>\n",
       "      <th></th>\n",
       "      <th></th>\n",
       "      <th></th>\n",
       "    </tr>\n",
       "  </thead>\n",
       "  <tbody>\n",
       "    <tr>\n",
       "      <th>001</th>\n",
       "      <td>John</td>\n",
       "      <td>Hunter</td>\n",
       "      <td>36</td>\n",
       "      <td>60000</td>\n",
       "      <td>Germany</td>\n",
       "      <td>Berlin</td>\n",
       "    </tr>\n",
       "    <tr>\n",
       "      <th>002</th>\n",
       "      <td>Lothar</td>\n",
       "      <td>Müller</td>\n",
       "      <td>48</td>\n",
       "      <td>90000</td>\n",
       "      <td>Germany</td>\n",
       "      <td>Munich</td>\n",
       "    </tr>\n",
       "    <tr>\n",
       "      <th>003</th>\n",
       "      <td>Andrew</td>\n",
       "      <td>Holland</td>\n",
       "      <td>21</td>\n",
       "      <td>50000</td>\n",
       "      <td>United States</td>\n",
       "      <td>Boston</td>\n",
       "    </tr>\n",
       "    <tr>\n",
       "      <th>004</th>\n",
       "      <td>John</td>\n",
       "      <td>Doe</td>\n",
       "      <td>44</td>\n",
       "      <td>120000</td>\n",
       "      <td>Scotland</td>\n",
       "      <td>Edinburgh</td>\n",
       "    </tr>\n",
       "    <tr>\n",
       "      <th>005</th>\n",
       "      <td>Elon</td>\n",
       "      <td>Brown</td>\n",
       "      <td>18</td>\n",
       "      <td>90000</td>\n",
       "      <td>United States</td>\n",
       "      <td>New York</td>\n",
       "    </tr>\n",
       "  </tbody>\n",
       "</table>\n",
       "</div>"
      ],
      "text/plain": [
       "       first_name last_name age  salary        country       city\n",
       "dev_id                                                           \n",
       "001          John    Hunter  36   60000        Germany     Berlin\n",
       "002        Lothar    Müller  48   90000        Germany     Munich\n",
       "003        Andrew   Holland  21   50000  United States     Boston\n",
       "004          John       Doe  44  120000       Scotland  Edinburgh\n",
       "005          Elon     Brown  18   90000  United States   New York"
      ]
     },
     "execution_count": 53,
     "metadata": {},
     "output_type": "execute_result"
    }
   ],
   "source": [
    "df_dev['age'] = df_dev['age'].astype(str)\n",
    "df_dev"
   ]
  },
  {
   "cell_type": "markdown",
   "metadata": {
    "pycharm": {
     "name": "#%% md\n"
    }
   },
   "source": [
    "## Transform column \"salary\""
   ]
  },
  {
   "cell_type": "code",
   "execution_count": 54,
   "metadata": {
    "pycharm": {
     "name": "#%%\n"
    }
   },
   "outputs": [
    {
     "data": {
      "text/html": [
       "<div>\n",
       "<style scoped>\n",
       "    .dataframe tbody tr th:only-of-type {\n",
       "        vertical-align: middle;\n",
       "    }\n",
       "\n",
       "    .dataframe tbody tr th {\n",
       "        vertical-align: top;\n",
       "    }\n",
       "\n",
       "    .dataframe thead th {\n",
       "        text-align: right;\n",
       "    }\n",
       "</style>\n",
       "<table border=\"1\" class=\"dataframe\">\n",
       "  <thead>\n",
       "    <tr style=\"text-align: right;\">\n",
       "      <th></th>\n",
       "      <th>first_name</th>\n",
       "      <th>last_name</th>\n",
       "      <th>age</th>\n",
       "      <th>salary</th>\n",
       "      <th>country</th>\n",
       "      <th>city</th>\n",
       "    </tr>\n",
       "    <tr>\n",
       "      <th>dev_id</th>\n",
       "      <th></th>\n",
       "      <th></th>\n",
       "      <th></th>\n",
       "      <th></th>\n",
       "      <th></th>\n",
       "      <th></th>\n",
       "    </tr>\n",
       "  </thead>\n",
       "  <tbody>\n",
       "    <tr>\n",
       "      <th>001</th>\n",
       "      <td>John</td>\n",
       "      <td>Hunter</td>\n",
       "      <td>36</td>\n",
       "      <td>60000.0</td>\n",
       "      <td>Germany</td>\n",
       "      <td>Berlin</td>\n",
       "    </tr>\n",
       "    <tr>\n",
       "      <th>002</th>\n",
       "      <td>Lothar</td>\n",
       "      <td>Müller</td>\n",
       "      <td>48</td>\n",
       "      <td>90000.0</td>\n",
       "      <td>Germany</td>\n",
       "      <td>Munich</td>\n",
       "    </tr>\n",
       "    <tr>\n",
       "      <th>003</th>\n",
       "      <td>Andrew</td>\n",
       "      <td>Holland</td>\n",
       "      <td>21</td>\n",
       "      <td>50000.0</td>\n",
       "      <td>United States</td>\n",
       "      <td>Boston</td>\n",
       "    </tr>\n",
       "    <tr>\n",
       "      <th>004</th>\n",
       "      <td>John</td>\n",
       "      <td>Doe</td>\n",
       "      <td>44</td>\n",
       "      <td>120000.0</td>\n",
       "      <td>Scotland</td>\n",
       "      <td>Edinburgh</td>\n",
       "    </tr>\n",
       "    <tr>\n",
       "      <th>005</th>\n",
       "      <td>Elon</td>\n",
       "      <td>Brown</td>\n",
       "      <td>18</td>\n",
       "      <td>90000.0</td>\n",
       "      <td>United States</td>\n",
       "      <td>New York</td>\n",
       "    </tr>\n",
       "  </tbody>\n",
       "</table>\n",
       "</div>"
      ],
      "text/plain": [
       "       first_name last_name age    salary        country       city\n",
       "dev_id                                                             \n",
       "001          John    Hunter  36   60000.0        Germany     Berlin\n",
       "002        Lothar    Müller  48   90000.0        Germany     Munich\n",
       "003        Andrew   Holland  21   50000.0  United States     Boston\n",
       "004          John       Doe  44  120000.0       Scotland  Edinburgh\n",
       "005          Elon     Brown  18   90000.0  United States   New York"
      ]
     },
     "execution_count": 54,
     "metadata": {},
     "output_type": "execute_result"
    }
   ],
   "source": [
    "df_dev['salary'] = df_dev['salary'].astype(float)\n",
    "df_dev"
   ]
  },
  {
   "cell_type": "markdown",
   "metadata": {
    "pycharm": {
     "name": "#%% md\n"
    }
   },
   "source": [
    "## Transform column \"country\""
   ]
  },
  {
   "cell_type": "code",
   "execution_count": 55,
   "metadata": {
    "pycharm": {
     "name": "#%%\n"
    }
   },
   "outputs": [
    {
     "data": {
      "text/html": [
       "<div>\n",
       "<style scoped>\n",
       "    .dataframe tbody tr th:only-of-type {\n",
       "        vertical-align: middle;\n",
       "    }\n",
       "\n",
       "    .dataframe tbody tr th {\n",
       "        vertical-align: top;\n",
       "    }\n",
       "\n",
       "    .dataframe thead th {\n",
       "        text-align: right;\n",
       "    }\n",
       "</style>\n",
       "<table border=\"1\" class=\"dataframe\">\n",
       "  <thead>\n",
       "    <tr style=\"text-align: right;\">\n",
       "      <th></th>\n",
       "      <th>first_name</th>\n",
       "      <th>last_name</th>\n",
       "      <th>age</th>\n",
       "      <th>salary</th>\n",
       "      <th>country</th>\n",
       "      <th>city</th>\n",
       "    </tr>\n",
       "    <tr>\n",
       "      <th>dev_id</th>\n",
       "      <th></th>\n",
       "      <th></th>\n",
       "      <th></th>\n",
       "      <th></th>\n",
       "      <th></th>\n",
       "      <th></th>\n",
       "    </tr>\n",
       "  </thead>\n",
       "  <tbody>\n",
       "    <tr>\n",
       "      <th>001</th>\n",
       "      <td>John</td>\n",
       "      <td>Hunter</td>\n",
       "      <td>36</td>\n",
       "      <td>60000.0</td>\n",
       "      <td>GERMANY</td>\n",
       "      <td>Berlin</td>\n",
       "    </tr>\n",
       "    <tr>\n",
       "      <th>002</th>\n",
       "      <td>Lothar</td>\n",
       "      <td>Müller</td>\n",
       "      <td>48</td>\n",
       "      <td>90000.0</td>\n",
       "      <td>GERMANY</td>\n",
       "      <td>Munich</td>\n",
       "    </tr>\n",
       "    <tr>\n",
       "      <th>003</th>\n",
       "      <td>Andrew</td>\n",
       "      <td>Holland</td>\n",
       "      <td>21</td>\n",
       "      <td>50000.0</td>\n",
       "      <td>UNITED STATES</td>\n",
       "      <td>Boston</td>\n",
       "    </tr>\n",
       "    <tr>\n",
       "      <th>004</th>\n",
       "      <td>John</td>\n",
       "      <td>Doe</td>\n",
       "      <td>44</td>\n",
       "      <td>120000.0</td>\n",
       "      <td>SCOTLAND</td>\n",
       "      <td>Edinburgh</td>\n",
       "    </tr>\n",
       "    <tr>\n",
       "      <th>005</th>\n",
       "      <td>Elon</td>\n",
       "      <td>Brown</td>\n",
       "      <td>18</td>\n",
       "      <td>90000.0</td>\n",
       "      <td>UNITED STATES</td>\n",
       "      <td>New York</td>\n",
       "    </tr>\n",
       "  </tbody>\n",
       "</table>\n",
       "</div>"
      ],
      "text/plain": [
       "       first_name last_name age    salary        country       city\n",
       "dev_id                                                             \n",
       "001          John    Hunter  36   60000.0        GERMANY     Berlin\n",
       "002        Lothar    Müller  48   90000.0        GERMANY     Munich\n",
       "003        Andrew   Holland  21   50000.0  UNITED STATES     Boston\n",
       "004          John       Doe  44  120000.0       SCOTLAND  Edinburgh\n",
       "005          Elon     Brown  18   90000.0  UNITED STATES   New York"
      ]
     },
     "execution_count": 55,
     "metadata": {},
     "output_type": "execute_result"
    }
   ],
   "source": [
    "df_dev['country'] = df_dev['country'].str.upper()\n",
    "df_dev"
   ]
  },
  {
   "cell_type": "markdown",
   "metadata": {
    "pycharm": {
     "name": "#%% md\n"
    }
   },
   "source": [
    "## Get Datatypes"
   ]
  },
  {
   "cell_type": "code",
   "execution_count": 56,
   "metadata": {
    "pycharm": {
     "name": "#%%\n"
    }
   },
   "outputs": [
    {
     "data": {
      "text/plain": [
       "first_name     object\n",
       "last_name      object\n",
       "age            object\n",
       "salary        float64\n",
       "country        object\n",
       "city           object\n",
       "dtype: object"
      ]
     },
     "execution_count": 56,
     "metadata": {},
     "output_type": "execute_result"
    }
   ],
   "source": [
    "df_dev.dtypes"
   ]
  }
 ],
 "metadata": {
  "kernelspec": {
   "display_name": "myenv",
   "language": "python",
   "name": "myenv"
  },
  "language_info": {
   "codemirror_mode": {
    "name": "ipython",
    "version": 3
   },
   "file_extension": ".py",
   "mimetype": "text/x-python",
   "name": "python",
   "nbconvert_exporter": "python",
   "pygments_lexer": "ipython3",
   "version": "3.8.3"
  }
 },
 "nbformat": 4,
 "nbformat_minor": 4
}